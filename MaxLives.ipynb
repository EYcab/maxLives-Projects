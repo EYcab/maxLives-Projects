{
 "cells": [
  {
   "cell_type": "code",
   "execution_count": 116,
   "metadata": {
    "collapsed": false
   },
   "outputs": [
    {
     "data": {
      "text/html": [
       "<div>\n",
       "<table border=\"1\" class=\"dataframe\">\n",
       "  <thead>\n",
       "    <tr style=\"text-align: right;\">\n",
       "      <th></th>\n",
       "      <th>id</th>\n",
       "      <th>Birth-Year</th>\n",
       "      <th>Death-Year</th>\n",
       "    </tr>\n",
       "  </thead>\n",
       "  <tbody>\n",
       "    <tr>\n",
       "      <th>0</th>\n",
       "      <td>0</td>\n",
       "      <td>1958</td>\n",
       "      <td>1995</td>\n",
       "    </tr>\n",
       "    <tr>\n",
       "      <th>1</th>\n",
       "      <td>1</td>\n",
       "      <td>1913</td>\n",
       "      <td>1990</td>\n",
       "    </tr>\n",
       "    <tr>\n",
       "      <th>2</th>\n",
       "      <td>2</td>\n",
       "      <td>1931</td>\n",
       "      <td>1963</td>\n",
       "    </tr>\n",
       "    <tr>\n",
       "      <th>3</th>\n",
       "      <td>3</td>\n",
       "      <td>1910</td>\n",
       "      <td>1916</td>\n",
       "    </tr>\n",
       "    <tr>\n",
       "      <th>4</th>\n",
       "      <td>4</td>\n",
       "      <td>1958</td>\n",
       "      <td>2000</td>\n",
       "    </tr>\n",
       "  </tbody>\n",
       "</table>\n",
       "</div>"
      ],
      "text/plain": [
       "   id  Birth-Year  Death-Year\n",
       "0   0        1958        1995\n",
       "1   1        1913        1990\n",
       "2   2        1931        1963\n",
       "3   3        1910        1916\n",
       "4   4        1958        2000"
      ]
     },
     "execution_count": 116,
     "metadata": {},
     "output_type": "execute_result"
    }
   ],
   "source": [
    "#The below algorithm is based on the brute force approach to get the result from a very large dataset\n",
    "#And Yes,it could be very slow.Yet,It graphically proves its correctness\n",
    "import pandas as pd\n",
    "from pandas import Series,DataFrame\n",
    "import numpy as np\n",
    "\n",
    "import matplotlib.pyplot as plt\n",
    "import seaborn as sns\n",
    "%matplotlib inline\n",
    "\n",
    "test_db = pd.read_csv('C:\\\\Users\\\\Chenxi\\\\Desktop\\\\python\\\\Projects\\\\superTest.csv')\n",
    "test_db.head()"
   ]
  },
  {
   "cell_type": "code",
   "execution_count": 117,
   "metadata": {
    "collapsed": false
   },
   "outputs": [
    {
     "name": "stdout",
     "output_type": "stream",
     "text": [
      "<class 'pandas.core.frame.DataFrame'>\n",
      "Int64Index: 99000 entries, 0 to 98999\n",
      "Data columns (total 3 columns):\n",
      "id            99000 non-null int64\n",
      "Birth-Year    99000 non-null int64\n",
      "Death-Year    99000 non-null int64\n",
      "dtypes: int64(3)\n",
      "memory usage: 3.0 MB\n"
     ]
    }
   ],
   "source": [
    "test_db.info()\n",
    "data_len=len(test_db.axes[0])"
   ]
  },
  {
   "cell_type": "code",
   "execution_count": 118,
   "metadata": {
    "collapsed": false
   },
   "outputs": [
    {
     "data": {
      "text/plain": [
       "[(1963, 37051),\n",
       " (1964, 37044),\n",
       " (1962, 37022),\n",
       " (1965, 36969),\n",
       " (1966, 36951),\n",
       " (1961, 36927),\n",
       " (1960, 36920),\n",
       " (1959, 36872),\n",
       " (1967, 36864),\n",
       " (1958, 36767),\n",
       " (1968, 36733),\n",
       " (1957, 36612),\n",
       " (1969, 36611),\n",
       " (1970, 36475),\n",
       " (1956, 36465),\n",
       " (1971, 36269),\n",
       " (1955, 36213),\n",
       " (1972, 36034),\n",
       " (1954, 36019),\n",
       " (1973, 35799),\n",
       " (1953, 35711),\n",
       " (1974, 35563),\n",
       " (1952, 35404),\n",
       " (1951, 35172),\n",
       " (1975, 35171),\n",
       " (1950, 34880),\n",
       " (1976, 34786),\n",
       " (1949, 34572),\n",
       " (1977, 34324),\n",
       " (1948, 34253),\n",
       " (1978, 33913),\n",
       " (1947, 33910),\n",
       " (1946, 33600),\n",
       " (1979, 33437),\n",
       " (1945, 33223),\n",
       " (1980, 32902),\n",
       " (1944, 32828),\n",
       " (1943, 32419),\n",
       " (1981, 32306),\n",
       " (1942, 31969),\n",
       " (1982, 31608),\n",
       " (1941, 31508),\n",
       " (1940, 31025),\n",
       " (1983, 30862),\n",
       " (1939, 30534),\n",
       " (1984, 30073),\n",
       " (1938, 30013),\n",
       " (1937, 29556),\n",
       " (1985, 29275),\n",
       " (1936, 29020),\n",
       " (1986, 28408),\n",
       " (1935, 28393),\n",
       " (1934, 27862),\n",
       " (1987, 27410),\n",
       " (1933, 27271),\n",
       " (1932, 26710),\n",
       " (1988, 26434),\n",
       " (1931, 26148),\n",
       " (1989, 25450),\n",
       " (1930, 25435),\n",
       " (1929, 24799),\n",
       " (1990, 24339),\n",
       " (1928, 24171),\n",
       " (1927, 23521),\n",
       " (1991, 23031),\n",
       " (1926, 22880),\n",
       " (1925, 22157),\n",
       " (1992, 21737),\n",
       " (1924, 21435),\n",
       " (1923, 20707),\n",
       " (1993, 20159),\n",
       " (1922, 20035),\n",
       " (1921, 19285),\n",
       " (1994, 18653),\n",
       " (1920, 18536),\n",
       " (1919, 17761),\n",
       " (1918, 16965),\n",
       " (1995, 16958),\n",
       " (1917, 16173),\n",
       " (1916, 15362),\n",
       " (1996, 15180),\n",
       " (1915, 14511),\n",
       " (1914, 13704),\n",
       " (1997, 13145),\n",
       " (1913, 12855),\n",
       " (1912, 11993),\n",
       " (1911, 11139),\n",
       " (1998, 10764),\n",
       " (1910, 10275),\n",
       " (1909, 9399),\n",
       " (1908, 8533),\n",
       " (1999, 8199),\n",
       " (1907, 7598),\n",
       " (1906, 6662),\n",
       " (1905, 5754),\n",
       " (2000, 5039),\n",
       " (1904, 4863),\n",
       " (1903, 3922),\n",
       " (1902, 2914),\n",
       " (1901, 1970),\n",
       " (1900, 959)]"
      ]
     },
     "execution_count": 118,
     "metadata": {},
     "output_type": "execute_result"
    }
   ],
   "source": [
    "data_len=len(test_db.axes[0])\n",
    "BirthYr = test_db['Birth-Year'].dropna()\n",
    "DeathYr = test_db['Death-Year'].dropna()\n",
    "#print live_period\n",
    "livesInYr = []\n",
    "for j in range(0,data_len):\n",
    "    for yr in range(BirthYr[j],DeathYr[j]+1):\n",
    "        livesInYr.append(yr)\n",
    "#print livesInYr\n",
    "import collections\n",
    "collections.Counter(livesInYr).most_common()\n",
    "# with 99000 rows, we have 1963 as the maximum live year with 37051 population"
   ]
  },
  {
   "cell_type": "code",
   "execution_count": 120,
   "metadata": {
    "collapsed": false
   },
   "outputs": [
    {
     "data": {
      "text/plain": [
       "array([[<matplotlib.axes._subplots.AxesSubplot object at 0x000000002B3B1978>]], dtype=object)"
      ]
     },
     "execution_count": 120,
     "metadata": {},
     "output_type": "execute_result"
    },
    {
     "data": {
      "image/png": "[encoded data removed]",
      "text/plain": [
       "<matplotlib.figure.Figure at 0x2b365898>"
      ]
     },
     "metadata": {},
     "output_type": "display_data"
    }
   ],
   "source": [
    "DataFrame(livesInYr).hist(figsize=(16,10),bins=100,xlabelsize=15)"
   ]
  },
  {
   "cell_type": "code",
   "execution_count": null,
   "metadata": {
    "collapsed": true
   },
   "outputs": [],
   "source": []
  },
  {
   "cell_type": "code",
   "execution_count": null,
   "metadata": {
    "collapsed": true
   },
   "outputs": [],
   "source": []
  },
  {
   "cell_type": "code",
   "execution_count": null,
   "metadata": {
    "collapsed": true
   },
   "outputs": [],
   "source": []
  }
 ],
 "metadata": {
  "kernelspec": {
   "display_name": "Python 2",
   "language": "python",
   "name": "python2"
  },
  "language_info": {
   "codemirror_mode": {
    "name": "ipython",
    "version": 2
   },
   "file_extension": ".py",
   "mimetype": "text/x-python",
   "name": "python",
   "nbconvert_exporter": "python",
   "pygments_lexer": "ipython2",
   "version": "2.7.10"
  }
 },
 "nbformat": 4,
 "nbformat_minor": 0
}
